{
  "nbformat": 4,
  "nbformat_minor": 0,
  "metadata": {
    "colab": {
      "provenance": []
    },
    "kernelspec": {
      "name": "python3",
      "display_name": "Python 3"
    },
    "language_info": {
      "name": "python"
    }
  },
  "cells": [
    {
      "cell_type": "markdown",
      "source": [
        "###1. Basic Printing:\n",
        "This is a simple example of using the print() function to display text.\n"
      ],
      "metadata": {
        "id": "tOJRJgcnOJ_q"
      }
    },
    {
      "cell_type": "code",
      "source": [
        "print(\"Hello, World!\")\n"
      ],
      "metadata": {
        "colab": {
          "base_uri": "https://localhost:8080/"
        },
        "id": "lbcU1IKVOJyz",
        "outputId": "c0238b32-8458-4da5-ff21-dca07e90d7c8"
      },
      "execution_count": 1,
      "outputs": [
        {
          "output_type": "stream",
          "name": "stdout",
          "text": [
            "Hello, World!\n"
          ]
        }
      ]
    },
    {
      "cell_type": "markdown",
      "source": [
        "##2. Printing Variables:\n",
        "You can print the values of variables using the print() function."
      ],
      "metadata": {
        "id": "qYgKrVvkOWL_"
      }
    },
    {
      "cell_type": "code",
      "source": [
        "name = \"SAMIZI\"\n",
        "age = 30\n",
        "print(\"Name:\", name)\n",
        "print(\"Age:\", age)\n"
      ],
      "metadata": {
        "colab": {
          "base_uri": "https://localhost:8080/"
        },
        "id": "n5_YRjGnOJxG",
        "outputId": "a543cc4c-93b3-482a-aec5-0579499e947c"
      },
      "execution_count": 2,
      "outputs": [
        {
          "output_type": "stream",
          "name": "stdout",
          "text": [
            "Name: SAMIZI\n",
            "Age: 30\n"
          ]
        }
      ]
    },
    {
      "cell_type": "markdown",
      "source": [
        "##3. Multiple Arguments:\n",
        "You can print multiple items in a single print() statement by separating them with commas."
      ],
      "metadata": {
        "id": "-NEhlLo1OfqI"
      }
    },
    {
      "cell_type": "code",
      "source": [
        "x = 5\n",
        "y = 10\n",
        "print(\"The values of x and y are:\", x, y)\n"
      ],
      "metadata": {
        "colab": {
          "base_uri": "https://localhost:8080/"
        },
        "id": "9_EOsDxeOJot",
        "outputId": "e104dfa2-2b2c-4126-9008-32efd8cb9cf4"
      },
      "execution_count": 3,
      "outputs": [
        {
          "output_type": "stream",
          "name": "stdout",
          "text": [
            "The values of x and y are: 5 10\n"
          ]
        }
      ]
    },
    {
      "cell_type": "markdown",
      "source": [
        "##4. String Concatenation:\n",
        "Combine variables and strings using the + operator for printing."
      ],
      "metadata": {
        "id": "1McnuGe5OqFP"
      }
    },
    {
      "cell_type": "code",
      "source": [
        "name = \"Soumya\"\n",
        "print(\"Hello, \" + name + \"!\")\n"
      ],
      "metadata": {
        "colab": {
          "base_uri": "https://localhost:8080/"
        },
        "id": "agMv2p0yOJkR",
        "outputId": "791f2a1d-57f8-4186-c92c-c60faaaf0f9e"
      },
      "execution_count": 4,
      "outputs": [
        {
          "output_type": "stream",
          "name": "stdout",
          "text": [
            "Hello, Soumya!\n"
          ]
        }
      ]
    },
    {
      "cell_type": "markdown",
      "source": [
        "##5. Formatted Strings (f-strings):\n",
        "Use f-strings to embed variable values directly within a string."
      ],
      "metadata": {
        "id": "c4Q15Y38Ovp4"
      }
    },
    {
      "cell_type": "code",
      "source": [
        "name = \"Soumya\"\n",
        "age = 25\n",
        "print(f\"Name: {name}, Age: {age}\")"
      ],
      "metadata": {
        "colab": {
          "base_uri": "https://localhost:8080/"
        },
        "id": "OQ95Bp08OJg3",
        "outputId": "fcfc3bc0-0540-45d9-e5e7-5d4377f435fd"
      },
      "execution_count": 5,
      "outputs": [
        {
          "output_type": "stream",
          "name": "stdout",
          "text": [
            "Name: Soumya, Age: 25\n"
          ]
        }
      ]
    },
    {
      "cell_type": "markdown",
      "source": [
        "##6. Escape Characters:\n",
        "Print special characters using escape sequences."
      ],
      "metadata": {
        "id": "hJf112VWPUz2"
      }
    },
    {
      "cell_type": "code",
      "source": [
        "print(\"This is a newline\\nand this is a tab\\tcharacter.\")\n"
      ],
      "metadata": {
        "colab": {
          "base_uri": "https://localhost:8080/"
        },
        "id": "WhulpLstOJdw",
        "outputId": "5c2a5203-2802-4a57-8fd3-c406b2f2c8de"
      },
      "execution_count": 6,
      "outputs": [
        {
          "output_type": "stream",
          "name": "stdout",
          "text": [
            "This is a newline\n",
            "and this is a tab\tcharacter.\n"
          ]
        }
      ]
    },
    {
      "cell_type": "markdown",
      "source": [
        "##7. Printing Numbers:\n",
        "You can print numbers directly or within strings."
      ],
      "metadata": {
        "id": "GhXLnk2sPdz4"
      }
    },
    {
      "cell_type": "code",
      "source": [
        "x = 42\n",
        "print(\"The answer is\", x)"
      ],
      "metadata": {
        "colab": {
          "base_uri": "https://localhost:8080/"
        },
        "id": "UXzxkDcFOJaK",
        "outputId": "a958e827-4af4-481d-ef14-3d5a73436769"
      },
      "execution_count": 7,
      "outputs": [
        {
          "output_type": "stream",
          "name": "stdout",
          "text": [
            "The answer is 42\n"
          ]
        }
      ]
    },
    {
      "cell_type": "markdown",
      "source": [
        "##8. Precision in Floating-Point Numbers:\n",
        "Control the number of decimal places when printing floating-point numbers."
      ],
      "metadata": {
        "id": "FBcM7aY7Pxkc"
      }
    },
    {
      "cell_type": "code",
      "source": [
        "pi = 3.141592653589793\n",
        "print(f\"Pi: {pi:.2f}\")"
      ],
      "metadata": {
        "colab": {
          "base_uri": "https://localhost:8080/"
        },
        "id": "P1s27rPcPsL6",
        "outputId": "9bce2db4-cf14-47a7-fd7d-bc7182c6c0d8"
      },
      "execution_count": 8,
      "outputs": [
        {
          "output_type": "stream",
          "name": "stdout",
          "text": [
            "Pi: 3.14\n"
          ]
        }
      ]
    },
    {
      "cell_type": "markdown",
      "source": [
        "##9. Printing Lists and Arrays:\n",
        "Print the contents of lists or arrays."
      ],
      "metadata": {
        "id": "76WL0bHOP5sy"
      }
    },
    {
      "cell_type": "code",
      "source": [
        "numbers = [1, 2, 3, 4, 5]\n",
        "print(\"Numbers:\", numbers)"
      ],
      "metadata": {
        "colab": {
          "base_uri": "https://localhost:8080/"
        },
        "id": "anovB4w9PrwX",
        "outputId": "ed7b1ec1-b2a5-4166-d17a-2a8a22c01b21"
      },
      "execution_count": 9,
      "outputs": [
        {
          "output_type": "stream",
          "name": "stdout",
          "text": [
            "Numbers: [1, 2, 3, 4, 5]\n"
          ]
        }
      ]
    },
    {
      "cell_type": "code",
      "source": [
        "numbers = [1, 2, 3, 4, 5]\n",
        "print(\"Numbers:\", numbers)\n",
        "print(\"Type:\", type(numbers))\n"
      ],
      "metadata": {
        "colab": {
          "base_uri": "https://localhost:8080/"
        },
        "id": "7koLhAf9Prly",
        "outputId": "1471a52b-2835-470f-dadf-2b47039ebe39"
      },
      "execution_count": 10,
      "outputs": [
        {
          "output_type": "stream",
          "name": "stdout",
          "text": [
            "Numbers: [1, 2, 3, 4, 5]\n",
            "Type: <class 'list'>\n"
          ]
        }
      ]
    },
    {
      "cell_type": "markdown",
      "source": [
        "#input()\n",
        "_____________"
      ],
      "metadata": {
        "id": "u292nNeUQi-y"
      }
    },
    {
      "cell_type": "markdown",
      "source": [
        "The input() function in Python is used to receive user input from the keyboard.\n",
        "\n",
        "It allows your program to pause and wait for the user to enter data, which can then be stored in a variable for further processing."
      ],
      "metadata": {
        "id": "XFFSumgqQ2q-"
      }
    },
    {
      "cell_type": "code",
      "source": [
        "# simple input function code\n",
        "user_input = input(\"Prompt: \")\n"
      ],
      "metadata": {
        "colab": {
          "base_uri": "https://localhost:8080/"
        },
        "id": "WgHuQEkIQ7yD",
        "outputId": "5ca35d16-ffc5-44dc-e748-cfd83aa4c29e"
      },
      "execution_count": 11,
      "outputs": [
        {
          "name": "stdout",
          "output_type": "stream",
          "text": [
            "Prompt: hi! there how are you\n"
          ]
        }
      ]
    },
    {
      "cell_type": "markdown",
      "source": [
        "**Prompt** is an optional argument that you can provide to give the user some guidance on what to enter.\n",
        "\n",
        "The user enters text, and when they press Enter, the input is read as a string and stored in the **user_inpu**t variable."
      ],
      "metadata": {
        "id": "DhzXgVTHRqB_"
      }
    },
    {
      "cell_type": "code",
      "source": [
        "# Simple input\n",
        "# Get disply user input\n",
        "\n",
        "user_input = input(\"Enter somthing you want to say to the world: \")\n",
        "print(\"You entered:\", user_input)"
      ],
      "metadata": {
        "colab": {
          "base_uri": "https://localhost:8080/"
        },
        "id": "1aBdehCQQ7uf",
        "outputId": "1beb297d-fa06-43b3-f1cc-dbd728e7f64a"
      },
      "execution_count": 12,
      "outputs": [
        {
          "output_type": "stream",
          "name": "stdout",
          "text": [
            "Enter somthing you want to say to the world: hello , world my name is soumya. and am a mathematician\n",
            "You entered: hello , world my name is soumya. and am a mathematician\n"
          ]
        }
      ]
    },
    {
      "cell_type": "code",
      "source": [
        "#Numeric Input:\n",
        "#Convert user input to an integer.\n",
        "age = int(input(\"Enter your age: \"))\n",
        "print(f\"You are {age} years old.\")\n"
      ],
      "metadata": {
        "colab": {
          "base_uri": "https://localhost:8080/"
        },
        "id": "rOHnX1roQ7rJ",
        "outputId": "1559b14a-9672-473b-bf66-eb954dc00469"
      },
      "execution_count": 13,
      "outputs": [
        {
          "output_type": "stream",
          "name": "stdout",
          "text": [
            "Enter your age: 23\n",
            "You are 23 years old.\n"
          ]
        }
      ]
    },
    {
      "cell_type": "code",
      "source": [
        "#Arithmetic Calculation:\n",
        "#Take two numbers as input and perform a calculation.\n",
        "\n",
        "num1 = float(input(\"Enter a number: \"))\n",
        "num2 = float(input(\"Enter a number: \"))\n",
        "\n",
        "result = num1 + num2\n",
        "print(\"The sum is:\", result)"
      ],
      "metadata": {
        "colab": {
          "base_uri": "https://localhost:8080/"
        },
        "id": "C-3pH-H-Q7oa",
        "outputId": "dd0e3594-64d4-4214-fbc2-b4fd17c5fc95"
      },
      "execution_count": 14,
      "outputs": [
        {
          "output_type": "stream",
          "name": "stdout",
          "text": [
            "Enter a number: 34\n",
            "Enter a number: 54\n",
            "The sum is: 88.0\n"
          ]
        }
      ]
    },
    {
      "cell_type": "code",
      "source": [
        "#String Concatenation:\n",
        "#Combine user input with a predefined string.\n",
        "\n",
        "name = input(\"Enter your name: \")\n",
        "greeting = \"Hello, \" + name + \"!\"\n",
        "print(greeting)\n"
      ],
      "metadata": {
        "colab": {
          "base_uri": "https://localhost:8080/"
        },
        "id": "6BOlJnFPQ7mr",
        "outputId": "674b4e58-c3b6-40a6-f96f-5d697b861156"
      },
      "execution_count": 15,
      "outputs": [
        {
          "output_type": "stream",
          "name": "stdout",
          "text": [
            "Enter your name: Soumya\n",
            "Hello, Soumya!\n"
          ]
        }
      ]
    },
    {
      "cell_type": "code",
      "source": [
        "#you can also write like this way\n",
        "\n",
        "print(\"hello,\" + \" \" + input(\"What is your name?:\"))"
      ],
      "metadata": {
        "colab": {
          "base_uri": "https://localhost:8080/"
        },
        "id": "UqBZjMJcQ7k8",
        "outputId": "c5a143dd-445e-441d-e1a7-041ca12e8864"
      },
      "execution_count": 16,
      "outputs": [
        {
          "output_type": "stream",
          "name": "stdout",
          "text": [
            "What is your name?:Sankar\n",
            "hello, Sankar\n"
          ]
        }
      ]
    },
    {
      "cell_type": "code",
      "source": [
        "#Password Input:\n",
        "#Get a password input with hidden characters.\n",
        "import getpass\n",
        "\n",
        "password = getpass.getpass(\"Enter your password: \")\n",
        "print(\"Password accepted.\")\n"
      ],
      "metadata": {
        "colab": {
          "base_uri": "https://localhost:8080/"
        },
        "id": "biTkbCdPQ7gB",
        "outputId": "a029073a-d1ee-42a0-8b8a-b62a80e9d867"
      },
      "execution_count": 17,
      "outputs": [
        {
          "output_type": "stream",
          "name": "stdout",
          "text": [
            "Enter your password: ··········\n",
            "Password accepted.\n"
          ]
        }
      ]
    },
    {
      "cell_type": "code",
      "source": [
        "#Validation with if Statement:\n",
        "#Check if the user enters a specific value.\n",
        "\n",
        "user_input = input(\"Enter 'yes' or 'no': \")\n",
        "if user_input.lower() == 'yes':\n",
        "  print(\"You chose 'yes' .\")\n",
        "else:\n",
        "  print(\"You chose somthing else.\")"
      ],
      "metadata": {
        "colab": {
          "base_uri": "https://localhost:8080/"
        },
        "id": "b5jhbeeGTw-8",
        "outputId": "b5680c74-afd7-4053-8c0e-05408642b86f"
      },
      "execution_count": 18,
      "outputs": [
        {
          "output_type": "stream",
          "name": "stdout",
          "text": [
            "Enter 'yes' or 'no': no\n",
            "You chose somthing else.\n"
          ]
        }
      ]
    },
    {
      "cell_type": "code",
      "source": [
        "user_input = input(\"Enter your 8 digit passcode: \")\n",
        "\n",
        "if len(user_input) == 8:\n",
        "  print(\"Your passcode Accepted and Valid\")\n",
        "  print(\"You can access your account.\")\n",
        "  print(\"Thank you!\")\n",
        "\n",
        "else:\n",
        "  print(\"Please enter valid passcode\")\n",
        "  print(\"Passcode Do not match \")\n",
        "  print(\"Please enter your 8 digit passcode\")"
      ],
      "metadata": {
        "colab": {
          "base_uri": "https://localhost:8080/"
        },
        "id": "S8R3TViVQ7eO",
        "outputId": "a601c272-d516-4614-9b29-aa411dc0e231"
      },
      "execution_count": 20,
      "outputs": [
        {
          "output_type": "stream",
          "name": "stdout",
          "text": [
            "Enter your 8 digit passcode: 90876545\n",
            "Your passcode Accepted and Valid\n",
            "You can access your account.\n",
            "Thank you!\n"
          ]
        }
      ]
    },
    {
      "cell_type": "code",
      "source": [
        "user_input = input(\"Enter your 8 digit passcode: \")\n",
        "\n",
        "if len(user_input) == 8:\n",
        "  print(\"Your passcode Accepted and Valid\")\n",
        "  print(\"You can access your account.\")\n",
        "  print(\"Thank you!\")\n",
        "\n",
        "else:\n",
        "  print(\"Please enter valid passcode ......\")\n",
        "  print(\"***Passcode Do not match*** \")\n",
        "  print(\"Please enter your 8 digit passcode!\")"
      ],
      "metadata": {
        "colab": {
          "base_uri": "https://localhost:8080/"
        },
        "id": "fePvmIsKOJW-",
        "outputId": "ea791954-b009-4e2e-8f92-ca51a8247245"
      },
      "execution_count": 23,
      "outputs": [
        {
          "output_type": "stream",
          "name": "stdout",
          "text": [
            "Enter your 8 digit passcode: 54396340163\n",
            "Please enter valid passcode ......\n",
            "***Passcode Do not match*** \n",
            "Please enter your 8 digit passcode!\n"
          ]
        }
      ]
    },
    {
      "cell_type": "code",
      "source": [
        "# Loop with Input:\n",
        "#Continuously ask for input until a specific condition is met.\n",
        "\n",
        "while True:\n",
        "  user_input = input(\"Enter 'quit' to exit: \")\n",
        "  if user_input.lower() == 'quit':\n",
        "    break\n",
        "  print(\"You entered:\", user_input)"
      ],
      "metadata": {
        "colab": {
          "base_uri": "https://localhost:8080/"
        },
        "id": "TD3fuQY1WB5r",
        "outputId": "6f82e034-3b67-43e3-82aa-72a57eb61438"
      },
      "execution_count": 24,
      "outputs": [
        {
          "name": "stdout",
          "output_type": "stream",
          "text": [
            "Enter 'quit' to exit: quit\n"
          ]
        }
      ]
    },
    {
      "cell_type": "code",
      "source": [
        "#. List of Numbers:\n",
        "#Get a list of numbers from the user and convert them into a list.\n",
        "\n",
        "number_str = input(\"Enter a list of numbers separated by spaces: \")\n",
        "numbers = [int(x) for x in number_str.split()]\n",
        "print(\"List of numbers:\", numbers)"
      ],
      "metadata": {
        "colab": {
          "base_uri": "https://localhost:8080/"
        },
        "id": "YT6LkWaSV_yl",
        "outputId": "505bc958-ca49-4bc5-a84b-662d733d1161"
      },
      "execution_count": 26,
      "outputs": [
        {
          "output_type": "stream",
          "name": "stdout",
          "text": [
            "Enter a list of numbers separated by spaces: 1 2 3 4 5 6 7 8 \n",
            "List of numbers: [1, 2, 3, 4, 5, 6, 7, 8]\n"
          ]
        }
      ]
    },
    {
      "cell_type": "code",
      "source": [
        "# lets try . this way.\n",
        "\n",
        "numbers_str = input(\"Enter a list of numbers separated by spaces: \")\n",
        "for x in numbers_str.split():\n",
        "  print([x])\n",
        "# But we can not caintained it in a list."
      ],
      "metadata": {
        "colab": {
          "base_uri": "https://localhost:8080/"
        },
        "id": "xaWthO3tV_Ra",
        "outputId": "c146e35e-d7d0-44ce-fb40-7da254849dcb"
      },
      "execution_count": 28,
      "outputs": [
        {
          "output_type": "stream",
          "name": "stdout",
          "text": [
            "Enter a list of numbers separated by spaces: 1 2 3 45 6 7 7 8 99\n",
            "['1']\n",
            "['2']\n",
            "['3']\n",
            "['45']\n",
            "['6']\n",
            "['7']\n",
            "['7']\n",
            "['8']\n",
            "['99']\n"
          ]
        }
      ]
    },
    {
      "cell_type": "code",
      "source": [
        "#Multiple Inputs:\n",
        "#Get multiple values in a single input and split them.\n",
        "\n",
        "values = input(\"Enter two values separated by a comma: \")\n",
        "value1, value2 = values.split(',')\n",
        "print(\"Value 1:\", value1.strip())\n",
        "print(\"Value 2:\", value2.strip())\n"
      ],
      "metadata": {
        "colab": {
          "base_uri": "https://localhost:8080/"
        },
        "id": "svh4e3UMYWgq",
        "outputId": "3fc90664-9ffb-4f21-d81f-b3a938841058"
      },
      "execution_count": 29,
      "outputs": [
        {
          "output_type": "stream",
          "name": "stdout",
          "text": [
            "Enter two values separated by a comma: 12,34\n",
            "Value 1: 12\n",
            "Value 2: 34\n"
          ]
        }
      ]
    },
    {
      "cell_type": "code",
      "source": [
        "# Accepting Enter Key Only:\n",
        "#Allow the user to press Enter without entering any text.\n",
        "\n",
        "user_input = input(\"Press Enter to continue...\")\n",
        "print(\"You pressed Enter.\")\n"
      ],
      "metadata": {
        "colab": {
          "base_uri": "https://localhost:8080/"
        },
        "id": "n7J20oxNYWUH",
        "outputId": "add29036-dd83-4df2-b881-73a3d6c4dace"
      },
      "execution_count": 30,
      "outputs": [
        {
          "output_type": "stream",
          "name": "stdout",
          "text": [
            "Press Enter to continue...\n",
            "You pressed Enter.\n"
          ]
        }
      ]
    },
    {
      "cell_type": "code",
      "source": [
        "#Error Handling:\n",
        "#Handle potential errors when converting input to an integer.\n",
        "\n",
        "try:\n",
        "  number = int(input(\"Enter a number: \"))\n",
        "  print(\"You entered:\", number)\n",
        "\n",
        "except ValueError:\n",
        "  print(\"Invalid input. Please enter a valid number.\")\n",
        "\n"
      ],
      "metadata": {
        "colab": {
          "base_uri": "https://localhost:8080/"
        },
        "id": "Vm8Pk2RiYWQq",
        "outputId": "8af57f48-f774-4ada-99c6-2921d203e261"
      },
      "execution_count": 31,
      "outputs": [
        {
          "output_type": "stream",
          "name": "stdout",
          "text": [
            "Enter a number: 234\n",
            "You entered: 234\n"
          ]
        }
      ]
    },
    {
      "cell_type": "code",
      "execution_count": 32,
      "metadata": {
        "colab": {
          "base_uri": "https://localhost:8080/"
        },
        "id": "UcARsG3BNUNN",
        "outputId": "7d87ba52-4cde-4e49-b3cc-ca64536eeadf"
      },
      "outputs": [
        {
          "output_type": "stream",
          "name": "stdout",
          "text": [
            "Enter a number: qwer\n",
            "Invalid input. Please enter a valid number.\n"
          ]
        }
      ],
      "source": [
        "try:\n",
        "  number = int(input(\"Enter a number: \"))\n",
        "  print(\"You entered:\", number)\n",
        "\n",
        "except ValueError:\n",
        "  print(\"Invalid input. Please enter a valid number.\")\n"
      ]
    },
    {
      "cell_type": "code",
      "source": [
        "# lets try this way handelling Errors:\n",
        "\n",
        "user_input = input(\"Enter your 8 digit passcode: \")\n",
        "\n",
        "try:\n",
        "   if len(user_input) == 8:\n",
        "      print(\"Your passcode Accepted and Valid\")\n",
        "      print(\"You can access your account.\")\n",
        "      print(\"Thank you!\")\n",
        "\n",
        "   else:\n",
        "      print(\"Please enter valid passcode ......\")\n",
        "      print(\"***Passcode Do not match*** \")\n",
        "\n",
        "\n",
        "except ValueError:\n",
        "    print(\"Invalid input. Please enter a valid number.\")\n",
        "    print(\"Please enter your 8 digit passcode!\")"
      ],
      "metadata": {
        "colab": {
          "base_uri": "https://localhost:8080/"
        },
        "id": "od35JXCvZcXp",
        "outputId": "0805b66a-1417-469b-afc7-051f56db2318"
      },
      "execution_count": 33,
      "outputs": [
        {
          "output_type": "stream",
          "name": "stdout",
          "text": [
            "Enter your 8 digit passcode: 12345678\n",
            "Your passcode Accepted and Valid\n",
            "You can access your account.\n",
            "Thank you!\n"
          ]
        }
      ]
    },
    {
      "cell_type": "code",
      "source": [
        "# lets try this way handelling Errors:\n",
        "\n",
        "user_input = input(\"Enter your 8 digit passcode: \")\n",
        "\n",
        "try:\n",
        "   if len(user_input) == 8:\n",
        "      print(\"Your passcode Accepted and Valid\")\n",
        "      print(\"You can access your account.\")\n",
        "      print(\"Thank you!\")\n",
        "\n",
        "\n",
        "except ValueError:\n",
        "    print(\"Invalid input. Please enter a valid number.\")\n",
        "    print(\"Please enter your 8 digit passcode!\")\n",
        "\n",
        "#No its not the coreect way .\n",
        "# Below is the explanation for this."
      ],
      "metadata": {
        "colab": {
          "base_uri": "https://localhost:8080/"
        },
        "id": "C34_jHl-Zcav",
        "outputId": "03a4c7f5-5db1-47a2-e10c-045a98e7229c"
      },
      "execution_count": 35,
      "outputs": [
        {
          "name": "stdout",
          "output_type": "stream",
          "text": [
            "Enter your 8 digit passcode: qwrej12-q\n"
          ]
        }
      ]
    },
    {
      "cell_type": "markdown",
      "source": [
        "There is a logical issue because you are trying to catch a '**ValueError**' exception, but the code inside the **'try'** block does not raise any **'ValueError'**.\n",
        "\n",
        "Instead, you are using an **'if'** statement to check the length of **'user_input'**, and if it doesn't meet the condition, you don't explicitly raise any exceptions."
      ],
      "metadata": {
        "id": "RO_KBbMRbBTR"
      }
    },
    {
      "cell_type": "code",
      "source": [
        "try:\n",
        "    user_input = input(\"Enter your 8-digit passcode: \")\n",
        "\n",
        "    if len(user_input) == 8 and user_input.isdigit():\n",
        "        print(\"Your passcode is Accepted and Valid\")\n",
        "        print(\"You can access your account.\")\n",
        "        print(\"Thank you!\")\n",
        "    else:\n",
        "        raise ValueError(\"Invalid input. Please enter a valid 8-digit passcode.\")\n",
        "\n",
        "except ValueError as e:\n",
        "    print(e)\n"
      ],
      "metadata": {
        "colab": {
          "base_uri": "https://localhost:8080/"
        },
        "id": "c-JlJYa9Zcek",
        "outputId": "8a638fad-f6d1-4568-d17d-85c743d44be3"
      },
      "execution_count": 36,
      "outputs": [
        {
          "output_type": "stream",
          "name": "stdout",
          "text": [
            "Enter your 8-digit passcode: qedt-678-qwnmK\n",
            "Invalid input. Please enter a valid 8-digit passcode.\n"
          ]
        }
      ]
    },
    {
      "cell_type": "code",
      "source": [
        "# Default Value:\n",
        "#Provide a default value if the user enters nothing.\n",
        "\n",
        "user_input = input(\"Enter something (or press Enter for default): \") or \"Default Value\"\n",
        "print(\"You entered:\", user_input)\n"
      ],
      "metadata": {
        "colab": {
          "base_uri": "https://localhost:8080/"
        },
        "id": "D5AoBp3bcBKM",
        "outputId": "9c48456d-d6f9-45d2-f58e-af0e4f7d540e"
      },
      "execution_count": 37,
      "outputs": [
        {
          "output_type": "stream",
          "name": "stdout",
          "text": [
            "Enter something (or press Enter for default): Ola! no 7\n",
            "You entered: Ola! no 7\n"
          ]
        }
      ]
    },
    {
      "cell_type": "code",
      "source": [
        "#Password Masking with 'getpass':\n",
        "#Use the 'getpass' module for secure password input.\n",
        "\n",
        "import getpass\n",
        "\n",
        "password = getpass.getpass(\"Enter your password: \")\n",
        "print(\"Password accepted.\")"
      ],
      "metadata": {
        "colab": {
          "base_uri": "https://localhost:8080/"
        },
        "id": "TeOqu5i5cBYH",
        "outputId": "6b76b143-3259-4487-d359-3aa8f5496bc6"
      },
      "execution_count": 38,
      "outputs": [
        {
          "output_type": "stream",
          "name": "stdout",
          "text": [
            "Enter your password: ··········\n",
            "Password accepted.\n"
          ]
        }
      ]
    },
    {
      "cell_type": "code",
      "source": [
        "#User Confirmation:\n",
        "#Ask the user for confirmation.\n",
        "\n",
        "confirmation = input(\"Are you sure? (yes/no): \")\n",
        "if confirmation.lower() == 'yes':\n",
        "    print(\"Confirmed.\")\n",
        "else:\n",
        "    print(\"Not confirmed.\")\n"
      ],
      "metadata": {
        "colab": {
          "base_uri": "https://localhost:8080/"
        },
        "id": "AooObEdwcBbd",
        "outputId": "b5cc637a-585f-4aeb-fd44-73b6f5158ddc"
      },
      "execution_count": 39,
      "outputs": [
        {
          "output_type": "stream",
          "name": "stdout",
          "text": [
            "Are you sure? (yes/no): yes\n",
            "Confirmed.\n"
          ]
        }
      ]
    },
    {
      "cell_type": "code",
      "source": [
        "# Reading a File Path:\n",
        "#Get a file path as input and handle potential errors.\n",
        "\n",
        "import os\n",
        "\n",
        "file_path = input(\"Enter a file path: \")\n",
        "if os.path.exists(file_path):\n",
        "    print(\"File exists.\")\n",
        "else:\n",
        "    print(\"File does not exist.\")\n"
      ],
      "metadata": {
        "colab": {
          "base_uri": "https://localhost:8080/"
        },
        "id": "1LebNnrWcBfb",
        "outputId": "f56aceae-dfab-4817-ffce-26320e1b8d96"
      },
      "execution_count": 40,
      "outputs": [
        {
          "output_type": "stream",
          "name": "stdout",
          "text": [
            "Enter a file path: https://www.wikipedia.org/\n",
            "File does not exist.\n"
          ]
        }
      ]
    },
    {
      "cell_type": "code",
      "source": [],
      "metadata": {
        "id": "qv8rFNSicBmO"
      },
      "execution_count": null,
      "outputs": []
    },
    {
      "cell_type": "code",
      "source": [],
      "metadata": {
        "id": "3xI96DmXcB41"
      },
      "execution_count": null,
      "outputs": []
    }
  ]
}