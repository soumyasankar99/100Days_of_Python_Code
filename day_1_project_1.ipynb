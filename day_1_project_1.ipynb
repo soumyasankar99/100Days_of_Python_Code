{
  "nbformat": 4,
  "nbformat_minor": 0,
  "metadata": {
    "colab": {
      "provenance": []
    },
    "kernelspec": {
      "name": "python3",
      "display_name": "Python 3"
    },
    "language_info": {
      "name": "python"
    }
  },
  "cells": [
    {
      "cell_type": "markdown",
      "source": [
        "#Simple Project : Brand Name Generator\n",
        "\n"
      ],
      "metadata": {
        "id": "W5QkpjnDMG64"
      }
    },
    {
      "cell_type": "code",
      "source": [
        "print(\"Welcome to the Band Name Generator.\")\n",
        "street = input(\"What's the name of the city you grew up in?\\n\")\n",
        "pet = input(\"What's your pet's name?\\n\")\n",
        "print(\"Your band name could be \" + street + \" \" + pet)"
      ],
      "metadata": {
        "colab": {
          "base_uri": "https://localhost:8080/"
        },
        "id": "gPDOZoMYMDZB",
        "outputId": "14316db3-a575-45ef-cd32-7a3aa967bb4e"
      },
      "execution_count": 3,
      "outputs": [
        {
          "output_type": "stream",
          "name": "stdout",
          "text": [
            "Welcome to the Band Name Generator.\n",
            "What's the name of the city you grew up in?\n",
            "Jajpur\n",
            "What's your pet's name?\n",
            "jim\n",
            "Your band name could be Jajpur jim\n"
          ]
        }
      ]
    },
    {
      "cell_type": "code",
      "source": [],
      "metadata": {
        "id": "HrIfJqAv5bY_"
      },
      "execution_count": null,
      "outputs": []
    }
  ]
}